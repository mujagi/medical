{
 "cells": [
  {
   "cell_type": "code",
   "execution_count": 25,
   "metadata": {},
   "outputs": [
    {
     "name": "stdout",
     "output_type": "stream",
     "text": [
      "726460\n",
      "1072653\n",
      "1211077\n",
      "1211949\n",
      "1524378\n",
      "1823908\n",
      "1737714\n",
      "1684266\n",
      "2055130\n",
      "2039606\n",
      "2303096\n",
      "2052227\n",
      "2097254\n",
      "1554976\n",
      "1038388\n",
      "713448\n",
      "507915\n",
      "212726\n",
      "54180\n",
      "8880\n",
      "1307\n"
     ]
    },
    {
     "name": "stderr",
     "output_type": "stream",
     "text": [
      "c:\\Python312\\Lib\\site-packages\\openpyxl\\styles\\stylesheet.py:226: UserWarning: Workbook contains no default style, apply openpyxl's default\n",
      "  warn(\"Workbook contains no default style, apply openpyxl's default\")\n"
     ]
    }
   ],
   "source": [
    "import pandas as pd\n",
    "\n",
    "\n",
    "df = pd.read_excel('20230103_인구.xlsx',skiprows=3,usecols='B,E:Y',index_col='행정기관')\n",
    "\n",
    "for i in range(df.shape[0]) :\n",
    "    df.iloc[i] = df.iloc[i].str.replace(',','').astype(int)\n",
    "for i in range(df.shape[1]) : \n",
    "    df.iloc[0,i]\n",
    "    print(df.iloc[0,i])   \n"
   ]
  }
 ],
 "metadata": {
  "kernelspec": {
   "display_name": "Python 3",
   "language": "python",
   "name": "python3"
  },
  "language_info": {
   "codemirror_mode": {
    "name": "ipython",
    "version": 3
   },
   "file_extension": ".py",
   "mimetype": "text/x-python",
   "name": "python",
   "nbconvert_exporter": "python",
   "pygments_lexer": "ipython3",
   "version": "3.12.0"
  }
 },
 "nbformat": 4,
 "nbformat_minor": 2
}
