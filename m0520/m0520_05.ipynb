{
 "cells": [
  {
   "cell_type": "markdown",
   "metadata": {},
   "source": [
    "# 정규표현식"
   ]
  },
  {
   "cell_type": "code",
   "execution_count": 10,
   "metadata": {},
   "outputs": [
    {
     "name": "stdout",
     "output_type": "stream",
     "text": [
      "매칭 되지 않았습니다\n"
     ]
    }
   ],
   "source": [
    "import re\n",
    "# 정규 표현식\n",
    "p = re.compile(\"ca.e\") # 정규표현식 지정\n",
    "word = 'cafe'\n",
    "word2 = 'care'\n",
    "word3 = 'cark'\n",
    "\n",
    "\n",
    "if p.match(word3) :\n",
    "    print('매칭이 되었습니다.')\n",
    "else : \n",
    "    print(\"매칭 되지 않았습니다\")\n",
    "\n",
    "\n"
   ]
  },
  {
   "cell_type": "code",
   "execution_count": 14,
   "metadata": {},
   "outputs": [
    {
     "name": "stdout",
     "output_type": "stream",
     "text": [
      "매칭되지 않았습니다. adesk 입니다\n"
     ]
    }
   ],
   "source": [
    "# ^de : 첫시작이 de여야함 \n",
    "\n",
    "word = 'adesk 입니다'\n",
    "if re.match(r'^(de)',word) : # 시작이 de로 시작되어야함\n",
    "    print(\"매칭 되었습니다.\",word)\n",
    "else : \n",
    "    print(\"매칭되지 않았습니다.\",word)"
   ]
  },
  {
   "cell_type": "code",
   "execution_count": 28,
   "metadata": {},
   "outputs": [
    {
     "name": "stdout",
     "output_type": "stream",
     "text": [
      "매칭 되었습니다. case\n"
     ]
    }
   ],
   "source": [
    "# se$ : 마지막이 se여야함 \n",
    "# match : 정확히 일치해야 함\n",
    "# search : 포함되어있으면 됨\n",
    "word = 'case'\n",
    "p = re.compile(\"(se)$\")\n",
    "if p.search(word) : # 시작이 de로 시작되어야함\n",
    "    print(\"매칭 되었습니다.\",word)\n",
    "else : \n",
    "    print(\"매칭되지 않았습니다.\",word)"
   ]
  },
  {
   "cell_type": "code",
   "execution_count": 31,
   "metadata": {},
   "outputs": [
    {
     "name": "stdout",
     "output_type": "stream",
     "text": [
      "매칭\n"
     ]
    }
   ],
   "source": [
    "# {3} : 3자리가 들어와야 True\n",
    "# {2,3} : 2~3자리 사이에 들어와야 True\n",
    "# ^ : 시작\n",
    "# [] : []안의 글자만 True\n",
    "# a-z : abcdefg....z 와 동일취급\n",
    "# A-Z : ABCDEF....Z 와 동일\n",
    "# 0-9 : 0123456...9 와 동일\n",
    "# ㄱ-ㅎ 가-힣 : 국문만 가능\n",
    "# 첫글자가 a이면서, 영문소문자 5개만 들어올 수 있음\n",
    "word = 'abcdef'\n",
    "if re.match(r'^a{1}[a-z]{5}$',word) :\n",
    "    print(\"매칭\")\n",
    "else :\n",
    "    print(\"틀림\")"
   ]
  },
  {
   "cell_type": "code",
   "execution_count": 32,
   "metadata": {},
   "outputs": [
    {
     "name": "stdout",
     "output_type": "stream",
     "text": [
      "매칭\n"
     ]
    }
   ],
   "source": [
    "word = \"02-1234-4567\"\n",
    "if re.search('[0-9]{2,3}-[0-9]{4}-[0-9]{4}',word) :\n",
    "    print('매칭')\n",
    "else : print('땡탈락')"
   ]
  },
  {
   "cell_type": "code",
   "execution_count": 1,
   "metadata": {},
   "outputs": [
    {
     "ename": "AttributeError",
     "evalue": "'int' object has no attribute 'isdigit'",
     "output_type": "error",
     "traceback": [
      "\u001b[1;31m---------------------------------------------------------------------------\u001b[0m",
      "\u001b[1;31mAttributeError\u001b[0m                            Traceback (most recent call last)",
      "Cell \u001b[1;32mIn[1], line 3\u001b[0m\n\u001b[0;32m      1\u001b[0m \u001b[38;5;28;01mwhile\u001b[39;00m \u001b[38;5;28;01mTrue\u001b[39;00m :\n\u001b[0;32m      2\u001b[0m     data \u001b[38;5;241m=\u001b[39m \u001b[38;5;28mint\u001b[39m(\u001b[38;5;28minput\u001b[39m(\u001b[38;5;124m'\u001b[39m\u001b[38;5;124m데이터를 입력하세요\u001b[39m\u001b[38;5;124m'\u001b[39m))\n\u001b[1;32m----> 3\u001b[0m     \u001b[38;5;28;01mif\u001b[39;00m \u001b[43mdata\u001b[49m\u001b[38;5;241;43m.\u001b[39;49m\u001b[43misdigit\u001b[49m() \u001b[38;5;129;01mand\u001b[39;00m data[\u001b[38;5;241m0\u001b[39m] \u001b[38;5;241m==\u001b[39m \u001b[38;5;241m1\u001b[39m \u001b[38;5;129;01mand\u001b[39;00m \u001b[38;5;28mlen\u001b[39m(data) \u001b[38;5;241m==\u001b[39m \u001b[38;5;241m6\u001b[39m:\n\u001b[0;32m      4\u001b[0m         \u001b[38;5;28mprint\u001b[39m(\u001b[38;5;124m'\u001b[39m\u001b[38;5;124m제대로 입력되었습니다.\u001b[39m\u001b[38;5;124m'\u001b[39m)\n\u001b[0;32m      5\u001b[0m         exit \u001b[38;5;241m=\u001b[39m \u001b[38;5;28mint\u001b[39m(\u001b[38;5;28minput\u001b[39m(\u001b[38;5;124m'\u001b[39m\u001b[38;5;124m프로그램을 종료하시겠습니까? (1. 추가입력 0. 종료)\u001b[39m\u001b[38;5;124m'\u001b[39m))\n",
      "\u001b[1;31mAttributeError\u001b[0m: 'int' object has no attribute 'isdigit'"
     ]
    }
   ],
   "source": [
    "# 데이터를 입력받아, 길이가 6자리, 첫글자가 1이면서 입력이 되면\n",
    "# 제대로 입력되었습니다.\n",
    "# 다시입력하세요 라고 출력되게 구현하시오.\n",
    "# 제대로 입력되어야지만, 프로그램을 종료 시킬 수 있도록\n",
    "while True :\n",
    "    data = input('데이터를 입력하세요')\n",
    "    if data.isdigit() and data[0] == 1 and len(data) == 6:\n",
    "        print('제대로 입력되었습니다.')\n",
    "        exit = int(input('프로그램을 종료하시겠습니까? (1. 추가입력 0. 종료)'))\n",
    "        if exit == 1 :\n",
    "            continue\n",
    "        else : \n",
    "            break\n",
    "    else : \n",
    "        print('다시 입력하세요')\n",
    "                "
   ]
  },
  {
   "cell_type": "code",
   "execution_count": null,
   "metadata": {},
   "outputs": [],
   "source": []
  }
 ],
 "metadata": {
  "kernelspec": {
   "display_name": "Python 3",
   "language": "python",
   "name": "python3"
  },
  "language_info": {
   "codemirror_mode": {
    "name": "ipython",
    "version": 3
   },
   "file_extension": ".py",
   "mimetype": "text/x-python",
   "name": "python",
   "nbconvert_exporter": "python",
   "pygments_lexer": "ipython3",
   "version": "3.12.0"
  }
 },
 "nbformat": 4,
 "nbformat_minor": 2
}
