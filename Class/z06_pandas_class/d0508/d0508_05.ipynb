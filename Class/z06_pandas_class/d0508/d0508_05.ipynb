{
 "cells": [
  {
   "cell_type": "code",
   "execution_count": 14,
   "metadata": {},
   "outputs": [
    {
     "name": "stderr",
     "output_type": "stream",
     "text": [
      "c:\\Python312\\Lib\\site-packages\\openpyxl\\styles\\stylesheet.py:226: UserWarning: Workbook contains no default style, apply openpyxl's default\n",
      "  warn(\"Workbook contains no default style, apply openpyxl's default\")\n"
     ]
    },
    {
     "data": {
      "text/plain": [
       "행정기관\n",
       "전국           1,307\n",
       "서울특별시          276\n",
       "부산광역시           72\n",
       "대구광역시           25\n",
       "인천광역시           82\n",
       "광주광역시           18\n",
       "대전광역시           28\n",
       "울산광역시            4\n",
       "세종특별자치시          6\n",
       "경기도            379\n",
       "강원도             67\n",
       "충청북도            50\n",
       "충청남도            58\n",
       "전라북도            62\n",
       "전라남도            60\n",
       "경상북도            56\n",
       "경상남도            53\n",
       "제주특별자치도         11\n",
       "Name: 100세 이상, dtype: object"
      ]
     },
     "execution_count": 14,
     "metadata": {},
     "output_type": "execute_result"
    }
   ],
   "source": [
    "import pandas as pd\n",
    "df = pd.read_excel('20230103_인구.xlsx',skiprows=3,index_col='행정기관',usecols='B,E:Y')\n",
    "df.head(2)\n",
    "df[0:3]\n",
    "df.tail()\n",
    "df[df.columns[-1]]"
   ]
  },
  {
   "cell_type": "code",
   "execution_count": 26,
   "metadata": {},
   "outputs": [
    {
     "name": "stderr",
     "output_type": "stream",
     "text": [
      "c:\\Python312\\Lib\\site-packages\\openpyxl\\styles\\stylesheet.py:226: UserWarning: Workbook contains no default style, apply openpyxl's default\n",
      "  warn(\"Workbook contains no default style, apply openpyxl's default\")\n"
     ]
    },
    {
     "data": {
      "text/plain": [
       "Index(['출생아수(명)', '조출생률(인구1천명당 명)', '합계출산율(가임여성1명당 명)'], dtype='object', name='제목')"
      ]
     },
     "execution_count": 26,
     "metadata": {},
     "output_type": "execute_result"
    }
   ],
   "source": [
    "# index_col = 0 첫번째 컬럼을 index로 지정\n",
    "# skiprows : 상단부분제외\n",
    "# nrows: 가져오기\n",
    "# usecols : 특정컬럼부분 가져오기\n",
    "df = pd.read_excel('20122022_출생.xlsx',skiprows=2,nrows=3,usecols='B:M',index_col=0)\n",
    "df.index.name = '제목'\n",
    "df.index"
   ]
  },
  {
   "cell_type": "code",
   "execution_count": 31,
   "metadata": {},
   "outputs": [
    {
     "data": {
      "text/plain": [
       "array(['출생아수(명)', '조출생률(인구1천명당\\xa0명)', '합계출산율(가임여성1명당\\xa0명)'],\n",
       "      dtype=object)"
      ]
     },
     "execution_count": 31,
     "metadata": {},
     "output_type": "execute_result"
    }
   ],
   "source": [
    "df.index.values"
   ]
  },
  {
   "cell_type": "code",
   "execution_count": 32,
   "metadata": {},
   "outputs": [
    {
     "data": {
      "text/plain": [
       "Index(['2012', '2013', '2014', '2015', '2016', '2017', '2018', '2019', '2020',\n",
       "       '2021', '2022'],\n",
       "      dtype='object')"
      ]
     },
     "execution_count": 32,
     "metadata": {},
     "output_type": "execute_result"
    }
   ],
   "source": [
    "df.columns"
   ]
  },
  {
   "cell_type": "code",
   "execution_count": 33,
   "metadata": {},
   "outputs": [
    {
     "data": {
      "text/plain": [
       "제목\n",
       "출생아수(명)             484,550\n",
       "조출생률(인구1천명당 명)          9.6\n",
       "합계출산율(가임여성1명당 명)      1.297\n",
       "Name: 2012, dtype: object"
      ]
     },
     "execution_count": 33,
     "metadata": {},
     "output_type": "execute_result"
    }
   ],
   "source": [
    "df['2012']"
   ]
  },
  {
   "cell_type": "code",
   "execution_count": 34,
   "metadata": {},
   "outputs": [
    {
     "data": {
      "text/plain": [
       "2012    484,550\n",
       "2013    436,455\n",
       "2014    435,435\n",
       "2015    438,420\n",
       "2016    406,243\n",
       "2017    357,771\n",
       "2018    326,822\n",
       "2019    302,676\n",
       "2020    272,337\n",
       "2021    260,562\n",
       "2022    249,186\n",
       "Name: 출생아수(명), dtype: object"
      ]
     },
     "execution_count": 34,
     "metadata": {},
     "output_type": "execute_result"
    }
   ],
   "source": [
    "df.loc['출생아수(명)'] #가로열 출력"
   ]
  },
  {
   "cell_type": "code",
   "execution_count": 39,
   "metadata": {},
   "outputs": [],
   "source": [
    "# index이름변경\n",
    "df.rename(index={'조출생률(인구1천명당\\xa0명)':'조출생률(인구1천명당 명)'},inplace=True)"
   ]
  },
  {
   "cell_type": "code",
   "execution_count": 37,
   "metadata": {},
   "outputs": [],
   "source": [
    "df.rename(index={'합계출산율(가임여성1명당\\xa0명)':'합계출산율(가임여성1명당 명)'},inplace=True)"
   ]
  },
  {
   "cell_type": "code",
   "execution_count": 40,
   "metadata": {},
   "outputs": [
    {
     "data": {
      "text/plain": [
       "2012    1.297\n",
       "2013    1.187\n",
       "2014    1.205\n",
       "2015    1.239\n",
       "2016    1.172\n",
       "2017    1.052\n",
       "2018    0.977\n",
       "2019    0.918\n",
       "2020    0.837\n",
       "2021    0.808\n",
       "2022    0.778\n",
       "Name: 합계출산율(가임여성1명당 명), dtype: object"
      ]
     },
     "execution_count": 40,
     "metadata": {},
     "output_type": "execute_result"
    }
   ],
   "source": [
    "df.loc['합계출산율(가임여성1명당 명)'] # index명을 확인해 볼것. df.index.values"
   ]
  },
  {
   "cell_type": "code",
   "execution_count": 41,
   "metadata": {},
   "outputs": [
    {
     "data": {
      "text/html": [
       "<div>\n",
       "<style scoped>\n",
       "    .dataframe tbody tr th:only-of-type {\n",
       "        vertical-align: middle;\n",
       "    }\n",
       "\n",
       "    .dataframe tbody tr th {\n",
       "        vertical-align: top;\n",
       "    }\n",
       "\n",
       "    .dataframe thead th {\n",
       "        text-align: right;\n",
       "    }\n",
       "</style>\n",
       "<table border=\"1\" class=\"dataframe\">\n",
       "  <thead>\n",
       "    <tr style=\"text-align: right;\">\n",
       "      <th>제목</th>\n",
       "      <th>출생아수(명)</th>\n",
       "      <th>조출생률(인구1천명당 명)</th>\n",
       "      <th>합계출산율(가임여성1명당 명)</th>\n",
       "    </tr>\n",
       "  </thead>\n",
       "  <tbody>\n",
       "    <tr>\n",
       "      <th>2012</th>\n",
       "      <td>484,550</td>\n",
       "      <td>9.6</td>\n",
       "      <td>1.297</td>\n",
       "    </tr>\n",
       "    <tr>\n",
       "      <th>2013</th>\n",
       "      <td>436,455</td>\n",
       "      <td>8.6</td>\n",
       "      <td>1.187</td>\n",
       "    </tr>\n",
       "    <tr>\n",
       "      <th>2014</th>\n",
       "      <td>435,435</td>\n",
       "      <td>8.6</td>\n",
       "      <td>1.205</td>\n",
       "    </tr>\n",
       "    <tr>\n",
       "      <th>2015</th>\n",
       "      <td>438,420</td>\n",
       "      <td>8.6</td>\n",
       "      <td>1.239</td>\n",
       "    </tr>\n",
       "    <tr>\n",
       "      <th>2016</th>\n",
       "      <td>406,243</td>\n",
       "      <td>7.9</td>\n",
       "      <td>1.172</td>\n",
       "    </tr>\n",
       "    <tr>\n",
       "      <th>2017</th>\n",
       "      <td>357,771</td>\n",
       "      <td>7.0</td>\n",
       "      <td>1.052</td>\n",
       "    </tr>\n",
       "    <tr>\n",
       "      <th>2018</th>\n",
       "      <td>326,822</td>\n",
       "      <td>6.4</td>\n",
       "      <td>0.977</td>\n",
       "    </tr>\n",
       "    <tr>\n",
       "      <th>2019</th>\n",
       "      <td>302,676</td>\n",
       "      <td>5.9</td>\n",
       "      <td>0.918</td>\n",
       "    </tr>\n",
       "    <tr>\n",
       "      <th>2020</th>\n",
       "      <td>272,337</td>\n",
       "      <td>5.3</td>\n",
       "      <td>0.837</td>\n",
       "    </tr>\n",
       "    <tr>\n",
       "      <th>2021</th>\n",
       "      <td>260,562</td>\n",
       "      <td>5.1</td>\n",
       "      <td>0.808</td>\n",
       "    </tr>\n",
       "    <tr>\n",
       "      <th>2022</th>\n",
       "      <td>249,186</td>\n",
       "      <td>4.9</td>\n",
       "      <td>0.778</td>\n",
       "    </tr>\n",
       "  </tbody>\n",
       "</table>\n",
       "</div>"
      ],
      "text/plain": [
       "제목    출생아수(명) 조출생률(인구1천명당 명) 합계출산율(가임여성1명당 명)\n",
       "2012  484,550            9.6            1.297\n",
       "2013  436,455            8.6            1.187\n",
       "2014  435,435            8.6            1.205\n",
       "2015  438,420            8.6            1.239\n",
       "2016  406,243            7.9            1.172\n",
       "2017  357,771            7.0            1.052\n",
       "2018  326,822            6.4            0.977\n",
       "2019  302,676            5.9            0.918\n",
       "2020  272,337            5.3            0.837\n",
       "2021  260,562            5.1            0.808\n",
       "2022  249,186            4.9            0.778"
      ]
     },
     "execution_count": 41,
     "metadata": {},
     "output_type": "execute_result"
    }
   ],
   "source": [
    "df = df.T #rows,columns축 변경\n",
    "df"
   ]
  }
 ],
 "metadata": {
  "kernelspec": {
   "display_name": "Python 3",
   "language": "python",
   "name": "python3"
  },
  "language_info": {
   "codemirror_mode": {
    "name": "ipython",
    "version": 3
   },
   "file_extension": ".py",
   "mimetype": "text/x-python",
   "name": "python",
   "nbconvert_exporter": "python",
   "pygments_lexer": "ipython3",
   "version": "3.12.0"
  }
 },
 "nbformat": 4,
 "nbformat_minor": 2
}
